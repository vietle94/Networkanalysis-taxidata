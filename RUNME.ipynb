{
 "cells": [
  {
   "cell_type": "code",
   "execution_count": 1,
   "metadata": {},
   "outputs": [],
   "source": [
    "from embedding import *"
   ]
  },
  {
   "cell_type": "code",
   "execution_count": 2,
   "metadata": {},
   "outputs": [],
   "source": [
    "model = taxi()"
   ]
  },
  {
   "cell_type": "code",
   "execution_count": 3,
   "metadata": {},
   "outputs": [
    {
     "data": {
      "text/plain": [
       "<networkx.classes.digraph.DiGraph at 0x21f6d829b00>"
      ]
     },
     "execution_count": 3,
     "metadata": {},
     "output_type": "execute_result"
    }
   ],
   "source": [
    "model.spatial_graph()"
   ]
  },
  {
   "cell_type": "code",
   "execution_count": 4,
   "metadata": {},
   "outputs": [
    {
     "data": {
      "text/plain": [
       "<networkx.classes.digraph.DiGraph at 0x21f7274d470>"
      ]
     },
     "execution_count": 4,
     "metadata": {},
     "output_type": "execute_result"
    }
   ],
   "source": [
    "model.taxi_flow()"
   ]
  },
  {
   "cell_type": "code",
   "execution_count": 5,
   "metadata": {},
   "outputs": [
    {
     "data": {
      "text/plain": [
       "array([[ 763,  640,  713, ...,  994,  338,  252],\n",
       "       [ 452,  797,  534, ...,  787,  870,  517],\n",
       "       [ 545,  352,  448, ...,  760,  811,  880],\n",
       "       ...,\n",
       "       [  20,  151,   69, ...,  122,    7,    5],\n",
       "       [ 229,  289,  212, ..., 1027,    3,  277],\n",
       "       [ 698,  618,  736, ...,  119,   92,  338]])"
      ]
     },
     "execution_count": 5,
     "metadata": {},
     "output_type": "execute_result"
    }
   ],
   "source": [
    "model.simulate_random_walks()"
   ]
  },
  {
   "cell_type": "code",
   "execution_count": 6,
   "metadata": {},
   "outputs": [
    {
     "data": {
      "text/plain": [
       "array([[-1.22780788,  0.96168828,  1.97087836, ..., -0.75970596,\n",
       "        -0.92915249, -2.21526289],\n",
       "       [ 6.16024542, -6.02057838, -6.56314516, ..., -1.20549417,\n",
       "         1.85196626,  1.4620682 ],\n",
       "       [ 2.64306688, -0.66581309,  0.70108908, ...,  1.47500205,\n",
       "        -4.22005224, -1.85475218],\n",
       "       ...,\n",
       "       [ 4.16924906, -5.83704662, -0.7894547 , ...,  1.21478188,\n",
       "         0.93800861,  1.41910756],\n",
       "       [-3.50544882,  6.29619741,  1.57180893, ..., -1.3293252 ,\n",
       "        -1.93668354, -1.40935469],\n",
       "       [-0.00817035,  1.43302834,  3.96762633, ..., -2.19895387,\n",
       "         0.81486052, -2.13450217]])"
      ]
     },
     "execution_count": 6,
     "metadata": {},
     "output_type": "execute_result"
    }
   ],
   "source": [
    "model.wordtoVec()"
   ]
  },
  {
   "cell_type": "code",
   "execution_count": 7,
   "metadata": {},
   "outputs": [
    {
     "name": "stdout",
     "output_type": "stream",
     "text": [
      "MAE:  162.81602381114152\n",
      "RMSE:  216.47513163421002\n",
      "R2:  -1.1433865937927212\n",
      "MSLE:  4.161883273207229\n"
     ]
    },
    {
     "data": {
      "text/plain": [
       "{'mae': 162.81602381114152,\n",
       " 'rmse': 216.47513163421002,\n",
       " 'r2': -1.1433865937927212,\n",
       " 'msle': 4.161883273207229}"
      ]
     },
     "execution_count": 7,
     "metadata": {},
     "output_type": "execute_result"
    }
   ],
   "source": [
    "model.run_crime_prediction()"
   ]
  },
  {
   "cell_type": "code",
   "execution_count": 8,
   "metadata": {},
   "outputs": [
    {
     "data": {
      "text/plain": [
       "array([ 0, 10,  8,  9,  7,  8, 11,  6,  0,  0,  0,  7,  4,  9, 10,  3,  6,\n",
       "        8,  3,  4, 11, 10,  8,  0, 11,  5,  0,  9,  6, 10,  3,  7,  5,  5,\n",
       "        5,  9,  2,  4,  2,  1,  4, 10,  3,  1,  1,  2,  7,  5,  6,  6,  3,\n",
       "        8,  1,  7,  4,  1,  3,  3,  6,  6,  2,  0,  9, 11,  0, 10,  1,  5,\n",
       "        1, 10,  4, 11,  9,  2,  7, 11,  4,  1,  4,  1,  1, 10,  2,  5,  4,\n",
       "        1,  0,  6, 10,  5,  8,  6,  1,  4,  1,  9,  9,  7,  6,  5, 11,  4,\n",
       "        5,  9,  2,  8,  0,  4,  7,  3,  1,  1,  7, 11,  3,  1, 10,  3, 11,\n",
       "        4,  3,  6, 11,  3,  6,  8,  8,  0,  5,  8,  9,  4,  8,  9, 11,  2,\n",
       "        4,  0,  9,  1,  7, 10,  0,  1,  7,  3,  0,  4,  9,  0,  1,  3,  8,\n",
       "       11,  3,  4,  7,  1,  6, 10,  9,  2,  5, 11, 11,  9,  2,  0,  9,  1,\n",
       "        5,  9,  9,  8, 10,  1,  9,  4,  8,  7])"
      ]
     },
     "execution_count": 8,
     "metadata": {},
     "output_type": "execute_result"
    }
   ],
   "source": [
    "model.kmeans()"
   ]
  }
 ],
 "metadata": {
  "kernelspec": {
   "display_name": "Python 3",
   "language": "python",
   "name": "python3"
  },
  "language_info": {
   "codemirror_mode": {
    "name": "ipython",
    "version": 3
   },
   "file_extension": ".py",
   "mimetype": "text/x-python",
   "name": "python",
   "nbconvert_exporter": "python",
   "pygments_lexer": "ipython3",
   "version": "3.7.3"
  }
 },
 "nbformat": 4,
 "nbformat_minor": 2
}
